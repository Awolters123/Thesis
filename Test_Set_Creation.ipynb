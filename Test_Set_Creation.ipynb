{
 "cells": [
  {
   "cell_type": "markdown",
   "metadata": {},
   "source": [
    "## <span style='font-family:\"Times New Roman\"'>Importing libraries"
   ]
  },
  {
   "cell_type": "code",
   "execution_count": 1,
   "metadata": {},
   "outputs": [],
   "source": [
    "import pandas as pd\n",
    "from sklearn.metrics import cohen_kappa_score\n",
    "import re"
   ]
  },
  {
   "cell_type": "markdown",
   "metadata": {},
   "source": [
    "## <span style='font-family:\"Times New Roman\"'>Downloading dataset"
   ]
  },
  {
   "cell_type": "code",
   "execution_count": 2,
   "metadata": {},
   "outputs": [],
   "source": [
    "\"\"\"Original annotated dataset\"\"\"\n",
    "gold_original = pd.read_csv(\"https://www.dropbox.com/s/y1a7kkrnko8mp5t/gold%20-%20newgold3.csv?dl=1\", names=['A', 'B', 'C', 'D', 'E', 'F', 'G', 'H', 'I', 'J', 'K', 'L'])"
   ]
  },
  {
   "cell_type": "markdown",
   "metadata": {},
   "source": [
    "## <span style='font-family:\"Times New Roman\"'>Converting dataset to test set"
   ]
  },
  {
   "cell_type": "code",
   "execution_count": 5,
   "metadata": {},
   "outputs": [],
   "source": [
    "def create_custom_test(data):\n",
    "    \"\"\"Storing all implicit/explicit labels,\n",
    "    with their accompanying tweets\"\"\"\n",
    "    hate_labels = []\n",
    "    hate_tweets = []\n",
    "    for label, text in zip(data['K'], data['C']):\n",
    "        if label == 'y':\n",
    "            hate_labels.append('EXPLICIT')\n",
    "            hate_tweets.append(text)\n",
    "        elif label == 'n':\n",
    "            hate_labels.append('IMPLICIT')\n",
    "            hate_tweets.append(text)\n",
    "            \n",
    "    \"\"\"Selecting 697 non implicit/explicit tweets,\n",
    "    with their accompanying tweets\"\"\"\n",
    "    not_hate_labels = []\n",
    "    not_hate_tweets = []\n",
    "    for label, text in zip(data['K'], data['C']):\n",
    "        if label != 'y':\n",
    "            if label != 'n':\n",
    "                match = re.search(r'https.*', text)\n",
    "                if not match:\n",
    "                    if len(text) > 5:\n",
    "                        if len(not_hate_labels) < 697:\n",
    "                            not_hate_labels.append('NOT')\n",
    "                            not_hate_tweets.append(text)\n",
    "                            \n",
    "    return hate_tweets, hate_labels, not_hate_tweets, not_hate_labels  \n",
    "                        \n",
    "                        \n",
    "def concate_dataset(h_tweets, h_labels, nh_tweets, nh_labels):\n",
    "    \"\"\"Creating a dataset with all explicit labels and text\"\"\"\n",
    "    df1 = pd.DataFrame()\n",
    "    df1['Text'] = h_tweets\n",
    "    df1['Explicitness'] = h_labels\n",
    "    \n",
    "    \"\"\"Creating a dataset with all non explicit labels and text\"\"\"\n",
    "    df2 = pd.DataFrame()\n",
    "    df2['Text'] = nh_tweets\n",
    "    df2['Explicitness'] = nh_labels\n",
    "    \n",
    "    \"\"\"Concatenating hate/non-hate datasets\"\"\"\n",
    "    dataframes = [df1, df2]\n",
    "    df_gold = pd.concat(dataframes)\n",
    "    \n",
    "    \"\"\"Reshuffeling the data set, and resetting the index\"\"\"\n",
    "    df_gold = df_gold.sample(frac=1).reset_index(drop=True)\n",
    "    \n",
    "    \"\"\"Store new dataset\"\"\"\n",
    "    df_gold.to_csv(r'C:\\Users\\AW\\Thesis\\df_gold.csv', index=False)\n",
    "    return df_gold"
   ]
  },
  {
   "cell_type": "code",
   "execution_count": 6,
   "metadata": {},
   "outputs": [],
   "source": [
    "\"\"\"Creating the test set with all hate tweets/non hate tweets, and merge and reshuffle them\"\"\"\n",
    "hate_tweets, hate_labels, non_hate_tweets, non_hate_labels = create_custom_test(gold_original)\n",
    "df_gold = concate_dataset(hate_tweets, hate_labels, non_hate_tweets, non_hate_labels)"
   ]
  },
  {
   "cell_type": "code",
   "execution_count": 7,
   "metadata": {},
   "outputs": [
    {
     "data": {
      "text/plain": [
       "(999, 2)"
      ]
     },
     "execution_count": 7,
     "metadata": {},
     "output_type": "execute_result"
    }
   ],
   "source": [
    "df_gold.shape"
   ]
  },
  {
   "cell_type": "code",
   "execution_count": 7,
   "metadata": {},
   "outputs": [
    {
     "data": {
      "text/html": [
       "<div>\n",
       "<style scoped>\n",
       "    .dataframe tbody tr th:only-of-type {\n",
       "        vertical-align: middle;\n",
       "    }\n",
       "\n",
       "    .dataframe tbody tr th {\n",
       "        vertical-align: top;\n",
       "    }\n",
       "\n",
       "    .dataframe thead th {\n",
       "        text-align: right;\n",
       "    }\n",
       "</style>\n",
       "<table border=\"1\" class=\"dataframe\">\n",
       "  <thead>\n",
       "    <tr style=\"text-align: right;\">\n",
       "      <th></th>\n",
       "      <th>Text</th>\n",
       "      <th>Explicitness</th>\n",
       "    </tr>\n",
       "  </thead>\n",
       "  <tbody>\n",
       "    <tr>\n",
       "      <th>0</th>\n",
       "      <td>@050Roy @thierrybaudet @Frederik_Jansen Ach hi...</td>\n",
       "      <td>EXPLICIT</td>\n",
       "    </tr>\n",
       "    <tr>\n",
       "      <th>1</th>\n",
       "      <td>@_WD69_ @Joop_nl @thierrybaudet @fvdemocratie ...</td>\n",
       "      <td>IMPLICIT</td>\n",
       "    </tr>\n",
       "    <tr>\n",
       "      <th>2</th>\n",
       "      <td>@timefornewname @thierrybaudet En de rest heef...</td>\n",
       "      <td>NOT</td>\n",
       "    </tr>\n",
       "    <tr>\n",
       "      <th>3</th>\n",
       "      <td>@BergsmaGert @VizierOpLinks @thierrybaudet @SP...</td>\n",
       "      <td>IMPLICIT</td>\n",
       "    </tr>\n",
       "    <tr>\n",
       "      <th>4</th>\n",
       "      <td>@geertwilderspvv Volgens mij ben je baas over ...</td>\n",
       "      <td>NOT</td>\n",
       "    </tr>\n",
       "  </tbody>\n",
       "</table>\n",
       "</div>"
      ],
      "text/plain": [
       "                                                Text Explicitness\n",
       "0  @050Roy @thierrybaudet @Frederik_Jansen Ach hi...     EXPLICIT\n",
       "1  @_WD69_ @Joop_nl @thierrybaudet @fvdemocratie ...     IMPLICIT\n",
       "2  @timefornewname @thierrybaudet En de rest heef...          NOT\n",
       "3  @BergsmaGert @VizierOpLinks @thierrybaudet @SP...     IMPLICIT\n",
       "4  @geertwilderspvv Volgens mij ben je baas over ...          NOT"
      ]
     },
     "execution_count": 7,
     "metadata": {},
     "output_type": "execute_result"
    }
   ],
   "source": [
    "df_gold.head()"
   ]
  },
  {
   "cell_type": "code",
   "execution_count": 8,
   "metadata": {},
   "outputs": [
    {
     "data": {
      "text/html": [
       "<div>\n",
       "<style scoped>\n",
       "    .dataframe tbody tr th:only-of-type {\n",
       "        vertical-align: middle;\n",
       "    }\n",
       "\n",
       "    .dataframe tbody tr th {\n",
       "        vertical-align: top;\n",
       "    }\n",
       "\n",
       "    .dataframe thead th {\n",
       "        text-align: right;\n",
       "    }\n",
       "</style>\n",
       "<table border=\"1\" class=\"dataframe\">\n",
       "  <thead>\n",
       "    <tr style=\"text-align: right;\">\n",
       "      <th></th>\n",
       "      <th>Text</th>\n",
       "      <th>Explicitness</th>\n",
       "    </tr>\n",
       "  </thead>\n",
       "  <tbody>\n",
       "    <tr>\n",
       "      <th>857</th>\n",
       "      <td>@MHarijk @hendrikotten3 @HaagseInsider @thierr...</td>\n",
       "      <td>NOT</td>\n",
       "    </tr>\n",
       "    <tr>\n",
       "      <th>858</th>\n",
       "      <td>@sebe3835 @robvbussel @daandoet @rimpeling @th...</td>\n",
       "      <td>NOT</td>\n",
       "    </tr>\n",
       "    <tr>\n",
       "      <th>859</th>\n",
       "      <td>@thierrybaudet @bramkrikke @Videoland Zieke Heli!</td>\n",
       "      <td>NOT</td>\n",
       "    </tr>\n",
       "    <tr>\n",
       "      <th>860</th>\n",
       "      <td>@PeterdeWilde10 @IsKritisch @TeekmanRob @thier...</td>\n",
       "      <td>NOT</td>\n",
       "    </tr>\n",
       "    <tr>\n",
       "      <th>861</th>\n",
       "      <td>@Kirsten_Grunn @SandraBeckerman Ja komt goed. ...</td>\n",
       "      <td>NOT</td>\n",
       "    </tr>\n",
       "  </tbody>\n",
       "</table>\n",
       "</div>"
      ],
      "text/plain": [
       "                                                  Text Explicitness\n",
       "857  @MHarijk @hendrikotten3 @HaagseInsider @thierr...          NOT\n",
       "858  @sebe3835 @robvbussel @daandoet @rimpeling @th...          NOT\n",
       "859  @thierrybaudet @bramkrikke @Videoland Zieke Heli!          NOT\n",
       "860  @PeterdeWilde10 @IsKritisch @TeekmanRob @thier...          NOT\n",
       "861  @Kirsten_Grunn @SandraBeckerman Ja komt goed. ...          NOT"
      ]
     },
     "execution_count": 8,
     "metadata": {},
     "output_type": "execute_result"
    }
   ],
   "source": [
    "df_gold.tail()"
   ]
  }
 ],
 "metadata": {
  "kernelspec": {
   "display_name": "Python 3",
   "language": "python",
   "name": "python3"
  },
  "language_info": {
   "codemirror_mode": {
    "name": "ipython",
    "version": 3
   },
   "file_extension": ".py",
   "mimetype": "text/x-python",
   "name": "python",
   "nbconvert_exporter": "python",
   "pygments_lexer": "ipython3",
   "version": "3.9.0"
  }
 },
 "nbformat": 4,
 "nbformat_minor": 4
}
