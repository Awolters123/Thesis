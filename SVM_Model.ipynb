{
 "cells": [
  {
   "cell_type": "markdown",
   "metadata": {},
   "source": [
    "## <span style='font-family:\"Times New Roman\"'>Importing libraries"
   ]
  },
  {
   "cell_type": "code",
   "execution_count": 1,
   "metadata": {},
   "outputs": [
    {
     "name": "stderr",
     "output_type": "stream",
     "text": [
      "[nltk_data] Downloading package stopwords to /Users/aw/nltk_data...\n",
      "[nltk_data]   Package stopwords is already up-to-date!\n"
     ]
    },
    {
     "data": {
      "text/plain": [
       "True"
      ]
     },
     "execution_count": 1,
     "metadata": {},
     "output_type": "execute_result"
    }
   ],
   "source": [
    "from collections import defaultdict\n",
    "import pandas as pd\n",
    "import numpy as np\n",
    "import re\n",
    "import emoji\n",
    "\n",
    "from sklearn.metrics import classification_report, confusion_matrix\n",
    "from sklearn import svm\n",
    "from sklearn.model_selection import GridSearchCV\n",
    "from sklearn.feature_extraction.text import CountVectorizer, TfidfVectorizer\n",
    "from sklearn.pipeline import Pipeline, FeatureUnion\n",
    "\n",
    "import nltk\n",
    "import string\n",
    "from nltk.tokenize import TweetTokenizer\n",
    "from nltk.corpus import stopwords\n",
    "from nltk import word_tokenize        \n",
    "from nltk.stem import WordNetLemmatizer \n",
    "from nltk.text import TextCollection\n",
    "\n",
    "import seaborn as sns\n",
    "import matplotlib.pyplot as plt\n",
    "\n",
    "nltk.download('stopwords')"
   ]
  },
  {
   "cell_type": "markdown",
   "metadata": {},
   "source": [
    "## <span style='font-family:\"Times New Roman\"'>Downloading datasets"
   ]
  },
  {
   "cell_type": "code",
   "execution_count": 2,
   "metadata": {},
   "outputs": [],
   "source": [
    "\"\"\"Loading data-sets\"\"\"\n",
    "df_train = pd.read_csv(\"https://www.dropbox.com/s/6gr5t05rd7v3nwm/dalc_v1_train_text.csv?dl=1\")\n",
    "df_dev = pd.read_csv(\"https://www.dropbox.com/s/mf2gyanb2pbz51a/dalc_v1_dev_text.csv?dl=1\")\n",
    "df_test = pd.read_csv(\"https://www.dropbox.com/s/ngotr4fyhjl9i2f/dalc_v1_test_text.csv?dl=1\")\n",
    "df_gold = pd.read_csv(\"https://www.dropbox.com/s/renwwgci14rs97z/df_gold.csv?dl=1\")"
   ]
  },
  {
   "cell_type": "markdown",
   "metadata": {},
   "source": [
    "## <span style='font-family:\"Times New Roman\"'>Processing labels & text"
   ]
  },
  {
   "cell_type": "code",
   "execution_count": 3,
   "metadata": {},
   "outputs": [],
   "source": [
    "def clean_samples(data):\n",
    "    \"\"\"Cleaning the tweets\"\"\"\n",
    "    new_samples = []\n",
    "    content = list(data['Text'])\n",
    "    for tweet_message in content:\n",
    "        tweet_message = re.sub(r'https.*[^ ]', 'URL', tweet_message)\n",
    "        tweet_message = re.sub(r'http.*[^ ]', 'URL', tweet_message)\n",
    "        tweet_message = re.sub(r'@([^ ]*)', '@USER', tweet_message)\n",
    "        tweet_message = emoji.demojize(tweet_message)\n",
    "        tweet_message = re.sub(r'(:.*?:)', r' \\1 ', tweet_message)\n",
    "        tweet_message = re.sub(' +', ' ', tweet_message)\n",
    "        new_samples.append(tweet_message)\n",
    "    return new_samples"
   ]
  },
  {
   "cell_type": "code",
   "execution_count": 4,
   "metadata": {},
   "outputs": [],
   "source": [
    "def heatmap(confusion_matrix, labels, color):\n",
    "    \"\"\"Create heatmap confusion matrix\"\"\"\n",
    "    dims = (11.7, 8.27)\n",
    "    fig, ax = plt.subplots(figsize=dims)\n",
    "    sns.heatmap(confusion_matrix, annot=True, fmt='g', cmap=color, xticklabels=labels, yticklabels=labels)\n",
    "    plt.xlabel(\"Predicted Label\") \n",
    "    plt.ylabel(\"True Label\")\n",
    "    plt.show()"
   ]
  },
  {
   "cell_type": "code",
   "execution_count": 5,
   "metadata": {},
   "outputs": [],
   "source": [
    "def encode_labels(labels):\n",
    "    \"\"\"Encoding the labels to numerical values\"\"\"\n",
    "    y_label = []\n",
    "    for label in labels:\n",
    "        if label == \"EXPLICIT\":\n",
    "            y_label.append(2)\n",
    "        elif label == \"IMPLICIT\":\n",
    "            y_label.append(1)\n",
    "        elif label == \"NOT\":\n",
    "            y_label.append(0)\n",
    "    return np.array(y_label)"
   ]
  },
  {
   "cell_type": "code",
   "execution_count": 6,
   "metadata": {},
   "outputs": [],
   "source": [
    "def _tokenize(word):\n",
    "    \"\"\"Helper function\"\"\"\n",
    "    return word.split(' ')\n",
    "\n",
    "def tokenize_v1(text):\n",
    "    \"\"\"Basic tokenizer thats splits on whitespace\"\"\"\n",
    "    for token in _tokenize(text):\n",
    "        yield token\n",
    "\n",
    "def word_tokenize_stem(text):\n",
    "    \"\"\"Custom tokenizzer with a stemmer\"\"\"\n",
    "    stem = nltk.stem.SnowballStemmer('dutch')\n",
    "    text = text.lower()\n",
    "    for token in word_tokenize(text):\n",
    "        yield stem.stem(token)\n",
    "          \n",
    "def bow(data):\n",
    "    \"\"\"Custom Bag of words\"\"\"\n",
    "    features = defaultdict(int)\n",
    "    for token in _tokenize(data):\n",
    "        features[token] =+ 1\n",
    "    return features"
   ]
  },
  {
   "cell_type": "code",
   "execution_count": 7,
   "metadata": {},
   "outputs": [],
   "source": [
    "\"\"\"Encoding the labels for train, dev, and test\"\"\"\n",
    "y_train = encode_labels(df_train['Explicitness'])\n",
    "y_dev = encode_labels(df_dev['Explicitness'])\n",
    "y_gold = encode_labels(df_gold['Explicitness'])"
   ]
  },
  {
   "cell_type": "code",
   "execution_count": 8,
   "metadata": {},
   "outputs": [],
   "source": [
    "\"\"\"Cleaning the tweets\"\"\"\n",
    "train_clean = clean_samples(df_train)\n",
    "dev_clean = clean_samples(df_dev)\n",
    "gold_clean = clean_samples(df_gold)"
   ]
  },
  {
   "cell_type": "markdown",
   "metadata": {},
   "source": [
    "## <span style='font-family:\"Times New Roman\"'>GridSearchCV"
   ]
  },
  {
   "cell_type": "code",
   "execution_count": 49,
   "metadata": {},
   "outputs": [],
   "source": [
    "def gridsearch(Xtrain, Ytrain, Xdev, Ydev):\n",
    "    \"\"\"Find the best parameters for each feature,\n",
    "    and print its classification report\"\"\"\n",
    "    model = svm.SVC(kernel='linear')\n",
    "\n",
    "    \"\"\"Word features\"\"\"\n",
    "    bow = CountVectorizer(analyzer='word')\n",
    "    #bow1 = CountVectorizer(analyzer=bow)\n",
    "    word_bigram = CountVectorizer(analyzer='word', ngram_range=(2,2))\n",
    "    word_trigram = CountVectorizer(analyzer='word', ngram_range=(3,3), stop_words=stopwords.words('dutch'))\n",
    "    word_trigram1 = CountVectorizer(analyzer='word', ngram_range=(3,3))\n",
    "    word_ngram = TfidfVectorizer(analyzer='word', ngram_range=(1,3), stop_words=stopwords.words('dutch'))\n",
    "    word_ngram1 = TfidfVectorizer(analyzer='word', ngram_range=(1,3))\n",
    "    \n",
    "    \"\"\"Char features\"\"\"\n",
    "    char_ngram = TfidfVectorizer(analyzer='char', ngram_range=(1,3))\n",
    "    char_ngram1 = TfidfVectorizer(analyzer='char', ngram_range=(2,5))\n",
    "    char_ngram2 = TfidfVectorizer(analyzer='char', ngram_range=(3,4))\n",
    "    char_ngram3 = TfidfVectorizer(analyzer='char', ngram_range=(2,4))\n",
    "    char_ngram4 = TfidfVectorizer(analyzer='char', ngram_range=(1,4))\n",
    "    \n",
    "    #features = [bow, word_bigram, word_trigram, word_trigram1, word_ngram, word_ngram1]\n",
    "    features = [char_ngram, char_ngram1, char_ngram2, char_ngram3, char_ngram4]\n",
    "    parameters = {'C':[0.1, 1, 10, 30, 40, 100]}\n",
    "    \n",
    "    print(\"Running grid search....\")\n",
    "    run = 0\n",
    "    for feature in features:\n",
    "        run +=1\n",
    "        model = svm.SVC(kernel='linear')\n",
    "        feature.fit(Xtrain, Xdev)\n",
    "        x_train = feature.transform(Xtrain)\n",
    "        x_dev = feature.transform(Xdev)\n",
    "        model.fit(x_train, Ytrain)\n",
    "        \n",
    "        grid_svm = GridSearchCV(model,\n",
    "                                param_grid=parameters,\n",
    "                                scoring='f1_macro',\n",
    "                                n_jobs=-1)\n",
    "\n",
    "        grid_svm.fit(x_train, Ytrain)\n",
    "        pred = grid_svm.predict(x_dev)\n",
    "        print(\"Run {}\\{}\".format(run, len(features)))\n",
    "        print(\"Best model ran with feature: {} and parameter: {}\\n\".format(feature, grid_svm.best_params_))\n",
    "        print(classification_report(Ydev, pred, digits=4), '\\n')"
   ]
  },
  {
   "cell_type": "code",
   "execution_count": 46,
   "metadata": {},
   "outputs": [
    {
     "name": "stdout",
     "output_type": "stream",
     "text": [
      "Running grid search....\n",
      "Run 1\\6\n",
      "Best model ran with feature: CountVectorizer() and parameter: {'C': 1}\n",
      "\n",
      "              precision    recall  f1-score   support\n",
      "\n",
      "           0     0.8822    0.9385    0.9095       439\n",
      "           1     0.2941    0.2632    0.2778        38\n",
      "           2     0.6458    0.4306    0.5167        72\n",
      "\n",
      "    accuracy                         0.8251       549\n",
      "   macro avg     0.6074    0.5441    0.5680       549\n",
      "weighted avg     0.8105    0.8251    0.8142       549\n",
      " \n",
      "\n",
      "Run 2\\6\n",
      "Best model ran with feature: CountVectorizer(ngram_range=(2, 2)) and parameter: {'C': 100}\n",
      "\n",
      "              precision    recall  f1-score   support\n",
      "\n",
      "           0     0.8437    0.9590    0.8977       439\n",
      "           1     0.3200    0.2105    0.2540        38\n",
      "           2     0.6000    0.2083    0.3093        72\n",
      "\n",
      "    accuracy                         0.8087       549\n",
      "   macro avg     0.5879    0.4593    0.4870       549\n",
      "weighted avg     0.7755    0.8087    0.7759       549\n",
      " \n",
      "\n",
      "Run 3\\6\n",
      "Best model ran with feature: CountVectorizer(ngram_range=(3, 3),\n",
      "                stop_words=['de', 'en', 'van', 'ik', 'te', 'dat', 'die', 'in',\n",
      "                            'een', 'hij', 'het', 'niet', 'zijn', 'is', 'was',\n",
      "                            'op', 'aan', 'met', 'als', 'voor', 'had', 'er',\n",
      "                            'maar', 'om', 'hem', 'dan', 'zou', 'of', 'wat',\n",
      "                            'mijn', ...]) and parameter: {'C': 100}\n",
      "\n",
      "              precision    recall  f1-score   support\n",
      "\n",
      "           0     0.8184    0.9954    0.8983       439\n",
      "           1     0.5714    0.1053    0.1778        38\n",
      "           2     0.8750    0.0972    0.1750        72\n",
      "\n",
      "    accuracy                         0.8160       549\n",
      "   macro avg     0.7549    0.3993    0.4170       549\n",
      "weighted avg     0.8087    0.8160    0.7535       549\n",
      " \n",
      "\n",
      "Run 4\\6\n",
      "Best model ran with feature: CountVectorizer(ngram_range=(3, 3)) and parameter: {'C': 1}\n",
      "\n",
      "              precision    recall  f1-score   support\n",
      "\n",
      "           0     0.8245    0.9954    0.9020       439\n",
      "           1     0.5714    0.1053    0.1778        38\n",
      "           2     0.8333    0.1389    0.2381        72\n",
      "\n",
      "    accuracy                         0.8215       549\n",
      "   macro avg     0.7431    0.4132    0.4393       549\n",
      "weighted avg     0.8082    0.8215    0.7648       549\n",
      " \n",
      "\n",
      "Run 5\\6\n",
      "Best model ran with feature: TfidfVectorizer(ngram_range=(1, 3),\n",
      "                stop_words=['de', 'en', 'van', 'ik', 'te', 'dat', 'die', 'in',\n",
      "                            'een', 'hij', 'het', 'niet', 'zijn', 'is', 'was',\n",
      "                            'op', 'aan', 'met', 'als', 'voor', 'had', 'er',\n",
      "                            'maar', 'om', 'hem', 'dan', 'zou', 'of', 'wat',\n",
      "                            'mijn', ...]) and parameter: {'C': 100}\n",
      "\n",
      "              precision    recall  f1-score   support\n",
      "\n",
      "           0     0.8630    0.9613    0.9095       439\n",
      "           1     0.3571    0.1316    0.1923        38\n",
      "           2     0.7391    0.4722    0.5763        72\n",
      "\n",
      "    accuracy                         0.8397       549\n",
      "   macro avg     0.6531    0.5217    0.5594       549\n",
      "weighted avg     0.8117    0.8397    0.8161       549\n",
      " \n",
      "\n",
      "Run 6\\6\n",
      "Best model ran with feature: TfidfVectorizer(ngram_range=(1, 3)) and parameter: {'C': 100}\n",
      "\n",
      "              precision    recall  f1-score   support\n",
      "\n",
      "           0     0.8685    0.9476    0.9063       439\n",
      "           1     0.4286    0.1579    0.2308        38\n",
      "           2     0.5893    0.4583    0.5156        72\n",
      "\n",
      "    accuracy                         0.8288       549\n",
      "   macro avg     0.6288    0.5213    0.5509       549\n",
      "weighted avg     0.8014    0.8288    0.8083       549\n",
      " \n",
      "\n"
     ]
    }
   ],
   "source": [
    "\"\"\"Finding best hyperparameters for word level features\"\"\"\n",
    "gridsearch(train_clean, y_train, dev_clean, y_dev)"
   ]
  },
  {
   "cell_type": "code",
   "execution_count": 50,
   "metadata": {},
   "outputs": [
    {
     "name": "stdout",
     "output_type": "stream",
     "text": [
      "Running grid search....\n",
      "Run 1\\5\n",
      "Best model ran with feature: TfidfVectorizer(analyzer='char', ngram_range=(1, 3)) and parameter: {'C': 10}\n",
      "\n",
      "              precision    recall  f1-score   support\n",
      "\n",
      "           0     0.8742    0.9339    0.9031       439\n",
      "           1     0.2812    0.2368    0.2571        38\n",
      "           2     0.6458    0.4306    0.5167        72\n",
      "\n",
      "    accuracy                         0.8197       549\n",
      "   macro avg     0.6004    0.5338    0.5590       549\n",
      "weighted avg     0.8032    0.8197    0.8077       549\n",
      " \n",
      "\n",
      "Run 2\\5\n",
      "Best model ran with feature: TfidfVectorizer(analyzer='char', ngram_range=(2, 5)) and parameter: {'C': 100}\n",
      "\n",
      "              precision    recall  f1-score   support\n",
      "\n",
      "           0     0.8747    0.9704    0.9201       439\n",
      "           1     0.4375    0.1842    0.2593        38\n",
      "           2     0.7609    0.4861    0.5932        72\n",
      "\n",
      "    accuracy                         0.8525       549\n",
      "   macro avg     0.6910    0.5469    0.5909       549\n",
      "weighted avg     0.8295    0.8525    0.8315       549\n",
      " \n",
      "\n",
      "Run 3\\5\n",
      "Best model ran with feature: TfidfVectorizer(analyzer='char', ngram_range=(3, 4)) and parameter: {'C': 100}\n",
      "\n",
      "              precision    recall  f1-score   support\n",
      "\n",
      "           0     0.8868    0.9636    0.9236       439\n",
      "           1     0.4000    0.2632    0.3175        38\n",
      "           2     0.7234    0.4722    0.5714        72\n",
      "\n",
      "    accuracy                         0.8506       549\n",
      "   macro avg     0.6701    0.5663    0.6042       549\n",
      "weighted avg     0.8317    0.8506    0.8354       549\n",
      " \n",
      "\n",
      "Run 4\\5\n",
      "Best model ran with feature: TfidfVectorizer(analyzer='char', ngram_range=(2, 4)) and parameter: {'C': 30}\n",
      "\n",
      "              precision    recall  f1-score   support\n",
      "\n",
      "           0     0.8808    0.9590    0.9182       439\n",
      "           1     0.3333    0.2105    0.2581        38\n",
      "           2     0.7021    0.4583    0.5546        72\n",
      "\n",
      "    accuracy                         0.8415       549\n",
      "   macro avg     0.6387    0.5426    0.5770       549\n",
      "weighted avg     0.8194    0.8415    0.8248       549\n",
      " \n",
      "\n",
      "Run 5\\5\n",
      "Best model ran with feature: TfidfVectorizer(analyzer='char', ngram_range=(1, 4)) and parameter: {'C': 30}\n",
      "\n",
      "              precision    recall  f1-score   support\n",
      "\n",
      "           0     0.8847    0.9613    0.9214       439\n",
      "           1     0.3462    0.2368    0.2812        38\n",
      "           2     0.7174    0.4583    0.5593        72\n",
      "\n",
      "    accuracy                         0.8452       549\n",
      "   macro avg     0.6494    0.5522    0.5873       549\n",
      "weighted avg     0.8255    0.8452    0.8296       549\n",
      " \n",
      "\n"
     ]
    }
   ],
   "source": [
    "\"\"\"Finding best hyperparameters for character level features\"\"\"\n",
    "gridsearch(train_clean, y_train, dev_clean, y_dev)"
   ]
  },
  {
   "cell_type": "markdown",
   "metadata": {},
   "source": [
    "## <span style='font-family:\"Times New Roman\"'>Models"
   ]
  },
  {
   "cell_type": "code",
   "execution_count": 13,
   "metadata": {},
   "outputs": [],
   "source": [
    "def svm_rbf():\n",
    "    \"\"\"Bag of words\"\"\"\n",
    "    countvec = CountVectorizer(analyzer='word')\n",
    "    countvec.fit(train_clean, gold_clean)\n",
    "    \n",
    "    x_train = countvec.transform(train_clean)\n",
    "    x_gold = countvec.transform(gold_clean)\n",
    "    print('Shape train: {}\\nShape test: {}\\n'.format(x_train.shape, x_gold.shape))\n",
    "\n",
    "    SVMlinear_baseline = svm.SVC(kernel='rbf')\n",
    "    SVMlinear_baseline.fit(x_train, y_train)\n",
    "    \n",
    "    pred = SVMlinear_baseline.predict(x_gold)\n",
    "    confusion = confusion_matrix(y_gold, pred)\n",
    "    classification = classification_report(y_gold, pred, digits=4)\n",
    "    return classification, confusion"
   ]
  },
  {
   "cell_type": "code",
   "execution_count": 47,
   "metadata": {},
   "outputs": [],
   "source": [
    "def svm_baseline():\n",
    "    \"\"\"Bag of words\"\"\"\n",
    "    countvec = CountVectorizer(analyzer='word')\n",
    "    countvec.fit(train_clean, gold_clean)\n",
    "    \n",
    "    x_train = countvec.transform(train_clean)\n",
    "    x_gold = countvec.transform(gold_clean)\n",
    "    print('Shape train: {}\\nShape test: {}\\n'.format(x_train.shape, x_gold.shape))\n",
    "\n",
    "    SVMlinear_baseline = svm.SVC(kernel='linear')\n",
    "    SVMlinear_baseline.fit(x_train, y_train)\n",
    "    \n",
    "    pred = SVMlinear_baseline.predict(x_gold)\n",
    "    confusion = confusion_matrix(y_gold, pred)\n",
    "    classification = classification_report(y_gold, pred, digits=4)\n",
    "    return classification, confusion"
   ]
  },
  {
   "cell_type": "code",
   "execution_count": 54,
   "metadata": {},
   "outputs": [],
   "source": [
    "def svm_finetuned_v1():\n",
    "    \"\"\"Character ngram in the range of 2 to 5 \"\"\"\n",
    "    countvec = TfidfVectorizer(analyzer='char', ngram_range=(2,5))\n",
    "    countvec.fit(train_clean, gold_clean)\n",
    "    \n",
    "    x_train = countvec.transform(train_clean)\n",
    "    x_gold = countvec.transform(gold_clean)\n",
    "    print('Shape train: {}\\nShape test: {}\\n'.format(x_train.shape, x_gold.shape))\n",
    "\n",
    "    SVMlinear_baseline = svm.SVC(kernel='linear', C=100)\n",
    "    SVMlinear_baseline.fit(x_train, y_train)\n",
    "    \n",
    "    pred = SVMlinear_baseline.predict(x_gold)\n",
    "    confusion = confusion_matrix(y_gold, pred)\n",
    "    classification = classification_report(y_gold, pred, digits=4)\n",
    "    return classification, confusion"
   ]
  },
  {
   "cell_type": "code",
   "execution_count": 55,
   "metadata": {},
   "outputs": [],
   "source": [
    "def svm_finetuned_v2():\n",
    "    \"\"\"Character ngram in the range of 3 to 4 \"\"\"\n",
    "    countvec = TfidfVectorizer(analyzer='char', ngram_range=(3,4))\n",
    "    countvec.fit(train_clean, gold_clean)\n",
    "    \n",
    "    x_train = countvec.transform(train_clean)\n",
    "    x_gold = countvec.transform(gold_clean)\n",
    "    print('Shape train: {}\\nShape test: {}\\n'.format(x_train.shape, x_gold.shape))\n",
    "\n",
    "    SVMlinear_baseline = svm.SVC(kernel='linear', C=100)\n",
    "    SVMlinear_baseline.fit(x_train, y_train)\n",
    "    \n",
    "    pred = SVMlinear_baseline.predict(x_gold)\n",
    "    confusion = confusion_matrix(y_gold, pred)\n",
    "    classification = classification_report(y_gold, pred, digits=4)\n",
    "    return classification, confusion"
   ]
  },
  {
   "cell_type": "markdown",
   "metadata": {},
   "source": [
    "## <span style='font-family:\"Times New Roman\"'>Final Models"
   ]
  },
  {
   "cell_type": "code",
   "execution_count": 60,
   "metadata": {},
   "outputs": [
    {
     "name": "stdout",
     "output_type": "stream",
     "text": [
      "Shape train: (5706, 15236)\n",
      "Shape test: (999, 15236)\n",
      "\n"
     ]
    },
    {
     "data": {
      "image/png": "[encoded data removed]",
      "text/plain": [
       "<Figure size 842.4x595.44 with 2 Axes>"
      ]
     },
     "metadata": {
      "needs_background": "light"
     },
     "output_type": "display_data"
    },
    {
     "name": "stdout",
     "output_type": "stream",
     "text": [
      "              precision    recall  f1-score   support\n",
      "\n",
      "           0     0.7518    0.8867    0.8137       697\n",
      "           1     0.1786    0.0806    0.1111       124\n",
      "           2     0.4215    0.2865    0.3411       178\n",
      "\n",
      "    accuracy                         0.6797       999\n",
      "   macro avg     0.4506    0.4179    0.4220       999\n",
      "weighted avg     0.6218    0.6797    0.6423       999\n",
      "\n"
     ]
    }
   ],
   "source": [
    "\"\"\"\n",
    "Classification report SVM baseline: \n",
    "\n",
    "  precision    recall  f1-score   support\n",
    "\n",
    "            0     0.7518    0.8867    0.8137       697\n",
    "            1     0.1786    0.0806    0.1111       124\n",
    "            2     0.4215    0.2865    0.3411       178\n",
    "\n",
    "     accuracy                         0.6797       999\n",
    "    macro avg     0.4506    0.4179    0.4220       999\n",
    " weighted avg     0.6218    0.6797    0.6423       999\n",
    "\"\"\"\n",
    "\n",
    "\n",
    "SVM_base = svm_baseline()\n",
    "labels = [\"NOT\", \"IMP\", \"EXP\"]\n",
    "heatmap(SVM_base[1], labels, \"Greens\")\n",
    "print(SVM_base[0])"
   ]
  },
  {
   "cell_type": "code",
   "execution_count": 58,
   "metadata": {},
   "outputs": [
    {
     "name": "stdout",
     "output_type": "stream",
     "text": [
      "Shape train: (5706, 186287)\n",
      "Shape test: (999, 186287)\n",
      "\n"
     ]
    },
    {
     "data": {
      "image/png": "[encoded data removed]",
      "text/plain": [
       "<Figure size 842.4x595.44 with 2 Axes>"
      ]
     },
     "metadata": {
      "needs_background": "light"
     },
     "output_type": "display_data"
    },
    {
     "name": "stdout",
     "output_type": "stream",
     "text": [
      "              precision    recall  f1-score   support\n",
      "\n",
      "           0     0.7700    0.9268    0.8411       697\n",
      "           1     0.3077    0.0645    0.1067       124\n",
      "           2     0.5597    0.4213    0.4808       178\n",
      "\n",
      "    accuracy                         0.7297       999\n",
      "   macro avg     0.5458    0.4709    0.4762       999\n",
      "weighted avg     0.6751    0.7297    0.6858       999\n",
      "\n"
     ]
    }
   ],
   "source": [
    "\"\"\"\n",
    "Classification report SVM finetuned v1:\n",
    "\n",
    "               precision    recall  f1-score   support\n",
    "\n",
    "            0     0.7700    0.9268    0.8411       697\n",
    "            1     0.3077    0.0645    0.1067       124\n",
    "            2     0.5597    0.4213    0.4808       178\n",
    "\n",
    "     accuracy                         0.7297       999\n",
    "    macro avg     0.5458    0.4709    0.4762       999\n",
    " weighted avg     0.6751    0.7297    0.6858       999\n",
    "\"\"\"\n",
    "\n",
    "\n",
    "SVM_tuned_v1 = svm_finetuned_v1()\n",
    "labels = [\"NOT\", \"IMP\", \"EXP\"]\n",
    "heatmap(SVM_tuned_v1[1], labels, \"Greens\")\n",
    "print(SVM_tuned_v1[0])"
   ]
  },
  {
   "cell_type": "code",
   "execution_count": 59,
   "metadata": {},
   "outputs": [
    {
     "name": "stdout",
     "output_type": "stream",
     "text": [
      "Shape train: (5706, 67515)\n",
      "Shape test: (999, 67515)\n",
      "\n"
     ]
    },
    {
     "data": {
      "image/png": "[encoded data removed]",
      "text/plain": [
       "<Figure size 842.4x595.44 with 2 Axes>"
      ]
     },
     "metadata": {
      "needs_background": "light"
     },
     "output_type": "display_data"
    },
    {
     "name": "stdout",
     "output_type": "stream",
     "text": [
      "              precision    recall  f1-score   support\n",
      "\n",
      "           0     0.7684    0.9139    0.8349       697\n",
      "           1     0.2821    0.0887    0.1350       124\n",
      "           2     0.5420    0.3989    0.4595       178\n",
      "\n",
      "    accuracy                         0.7197       999\n",
      "   macro avg     0.5308    0.4672    0.4765       999\n",
      "weighted avg     0.6677    0.7197    0.6811       999\n",
      "\n"
     ]
    }
   ],
   "source": [
    "\"\"\"\n",
    "Classification report SVM finetuned v2:\n",
    "\n",
    "               precision    recall  f1-score   support\n",
    "\n",
    "            0     0.7684    0.9139    0.8349       697\n",
    "            1     0.2821    0.0887    0.1350       124\n",
    "            2     0.5420    0.3989    0.4595       178\n",
    "\n",
    "     accuracy                         0.7197       999\n",
    "    macro avg     0.5308    0.4672    0.4765       999\n",
    " weighted avg     0.6677    0.7197    0.6811       999\n",
    "\"\"\"\n",
    "\n",
    "\n",
    "SVM_tuned_v2 = svm_finetuned_v2()\n",
    "labels = [\"NOT\", \"IMP\", \"EXP\"]\n",
    "heatmap(SVM_tuned_v2[1], labels, \"Greens\")\n",
    "print(SVM_tuned_v2[0])"
   ]
  },
  {
   "cell_type": "markdown",
   "metadata": {},
   "source": [
    "## <span style='font-family:\"Times New Roman\"'>Results with rbf kernel"
   ]
  },
  {
   "cell_type": "code",
   "execution_count": 14,
   "metadata": {},
   "outputs": [
    {
     "name": "stdout",
     "output_type": "stream",
     "text": [
      "Shape train: (5706, 15236)\n",
      "Shape test: (999, 15236)\n",
      "\n",
      "              precision    recall  f1-score   support\n",
      "\n",
      "           0     0.7000    0.9943    0.8216       697\n",
      "           1     0.0000    0.0000    0.0000       124\n",
      "           2     0.5556    0.0281    0.0535       178\n",
      "\n",
      "    accuracy                         0.6987       999\n",
      "   macro avg     0.4185    0.3408    0.2917       999\n",
      "weighted avg     0.5874    0.6987    0.5827       999\n",
      "\n"
     ]
    },
    {
     "name": "stderr",
     "output_type": "stream",
     "text": [
      "/Library/Frameworks/Python.framework/Versions/3.9/lib/python3.9/site-packages/sklearn/metrics/_classification.py:1245: UndefinedMetricWarning: Precision and F-score are ill-defined and being set to 0.0 in labels with no predicted samples. Use `zero_division` parameter to control this behavior.\n",
      "  _warn_prf(average, modifier, msg_start, len(result))\n",
      "/Library/Frameworks/Python.framework/Versions/3.9/lib/python3.9/site-packages/sklearn/metrics/_classification.py:1245: UndefinedMetricWarning: Precision and F-score are ill-defined and being set to 0.0 in labels with no predicted samples. Use `zero_division` parameter to control this behavior.\n",
      "  _warn_prf(average, modifier, msg_start, len(result))\n",
      "/Library/Frameworks/Python.framework/Versions/3.9/lib/python3.9/site-packages/sklearn/metrics/_classification.py:1245: UndefinedMetricWarning: Precision and F-score are ill-defined and being set to 0.0 in labels with no predicted samples. Use `zero_division` parameter to control this behavior.\n",
      "  _warn_prf(average, modifier, msg_start, len(result))\n"
     ]
    }
   ],
   "source": [
    "\"\"\"\n",
    "Classification report SVM with rbf kernel:\n",
    "\n",
    "               precision    recall  f1-score   support\n",
    "\n",
    "            0     0.7000    0.9943    0.8216       697\n",
    "            1     0.0000    0.0000    0.0000       124\n",
    "            2     0.5556    0.0281    0.0535       178\n",
    "\n",
    "     accuracy                         0.6987       999\n",
    "    macro avg     0.4185    0.3408    0.2917       999\n",
    " weighted avg     0.5874    0.6987    0.5827       999\n",
    "\"\"\"\n",
    "SVM_rbf = svm_rbf()\n",
    "print(SVM_rbf[0])"
   ]
  }
 ],
 "metadata": {
  "kernelspec": {
   "display_name": "Python 3",
   "language": "python",
   "name": "python3"
  },
  "language_info": {
   "codemirror_mode": {
    "name": "ipython",
    "version": 3
   },
   "file_extension": ".py",
   "mimetype": "text/x-python",
   "name": "python",
   "nbconvert_exporter": "python",
   "pygments_lexer": "ipython3",
   "version": "3.9.0"
  }
 },
 "nbformat": 4,
 "nbformat_minor": 4
}
