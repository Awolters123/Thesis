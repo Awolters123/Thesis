{
 "cells": [
  {
   "cell_type": "markdown",
   "metadata": {},
   "source": [
    "## <span style='font-family:\"Times New Roman\"'>Data insight"
   ]
  },
  {
   "cell_type": "code",
   "execution_count": 3,
   "metadata": {},
   "outputs": [],
   "source": [
    "# Standard libraries used:\n",
    "import pandas as pd\n",
    "import numpy as np\n",
    "import re\n",
    "import emoji\n",
    "\n",
    "# sklearn libraries used:\n",
    "from sklearn.feature_extraction.text import CountVectorizer, TfidfVectorizer\n",
    "\n",
    "# Seaborn & mathplot libraries used:\n",
    "from seaborn import pairplot\n",
    "import matplotlib.pyplot as plt"
   ]
  },
  {
   "cell_type": "markdown",
   "metadata": {},
   "source": [
    "## <span style='font-family:\"Times New Roman\"'>Downloading datasets"
   ]
  },
  {
   "cell_type": "code",
   "execution_count": 8,
   "metadata": {},
   "outputs": [],
   "source": [
    "\"\"\"Loading data-sets\"\"\"\n",
    "df_train = pd.read_csv(\"https://www.dropbox.com/s/6gr5t05rd7v3nwm/dalc_v1_train_text.csv?dl=1\")\n",
    "df_dev = pd.read_csv(\"https://www.dropbox.com/s/mf2gyanb2pbz51a/dalc_v1_dev_text.csv?dl=1\")\n",
    "df_test = pd.read_csv(\"https://www.dropbox.com/s/ngotr4fyhjl9i2f/dalc_v1_test_text.csv?dl=1\")\n",
    "df_gold = pd.read_csv(\"https://www.dropbox.com/s/renwwgci14rs97z/df_gold.csv?dl=1\")"
   ]
  },
  {
   "cell_type": "code",
   "execution_count": 9,
   "metadata": {},
   "outputs": [],
   "source": [
    "\"\"\"Removing columns that aren't used\"\"\"\n",
    "df_train = df_train.drop(columns=['Id', 'Target'])\n",
    "df_dev = df_dev.drop(columns=['Id', 'Target'])\n",
    "df_test = df_test.drop(columns=['Id', 'Target'])"
   ]
  },
  {
   "cell_type": "code",
   "execution_count": 23,
   "metadata": {},
   "outputs": [
    {
     "data": {
      "text/plain": [
       "(5706, 2)"
      ]
     },
     "execution_count": 23,
     "metadata": {},
     "output_type": "execute_result"
    }
   ],
   "source": [
    "df_train.shape"
   ]
  },
  {
   "cell_type": "code",
   "execution_count": 24,
   "metadata": {},
   "outputs": [
    {
     "data": {
      "text/html": [
       "<div>\n",
       "<style scoped>\n",
       "    .dataframe tbody tr th:only-of-type {\n",
       "        vertical-align: middle;\n",
       "    }\n",
       "\n",
       "    .dataframe tbody tr th {\n",
       "        vertical-align: top;\n",
       "    }\n",
       "\n",
       "    .dataframe thead th {\n",
       "        text-align: right;\n",
       "    }\n",
       "</style>\n",
       "<table border=\"1\" class=\"dataframe\">\n",
       "  <thead>\n",
       "    <tr style=\"text-align: right;\">\n",
       "      <th></th>\n",
       "      <th>Text</th>\n",
       "      <th>Explicitness</th>\n",
       "    </tr>\n",
       "  </thead>\n",
       "  <tbody>\n",
       "    <tr>\n",
       "      <th>0</th>\n",
       "      <td>a1 limburgsingel arnhem 6845DS 79898 | Ambulan...</td>\n",
       "      <td>NOT</td>\n",
       "    </tr>\n",
       "    <tr>\n",
       "      <th>1</th>\n",
       "      <td>Schijnt trouwens dat er in België ook verdacht...</td>\n",
       "      <td>NOT</td>\n",
       "    </tr>\n",
       "    <tr>\n",
       "      <th>2</th>\n",
       "      <td>@USER Zo lijkt het bij sommige mensen écht hé?</td>\n",
       "      <td>NOT</td>\n",
       "    </tr>\n",
       "    <tr>\n",
       "      <th>3</th>\n",
       "      <td>Vannacht is deze trailer gestolen van het terr...</td>\n",
       "      <td>NOT</td>\n",
       "    </tr>\n",
       "    <tr>\n",
       "      <th>4</th>\n",
       "      <td>@USER ik geen eeuwige grafrust, die lui ook ni...</td>\n",
       "      <td>NOT</td>\n",
       "    </tr>\n",
       "  </tbody>\n",
       "</table>\n",
       "</div>"
      ],
      "text/plain": [
       "                                                Text Explicitness\n",
       "0  a1 limburgsingel arnhem 6845DS 79898 | Ambulan...          NOT\n",
       "1  Schijnt trouwens dat er in België ook verdacht...          NOT\n",
       "2     @USER Zo lijkt het bij sommige mensen écht hé?          NOT\n",
       "3  Vannacht is deze trailer gestolen van het terr...          NOT\n",
       "4  @USER ik geen eeuwige grafrust, die lui ook ni...          NOT"
      ]
     },
     "execution_count": 24,
     "metadata": {},
     "output_type": "execute_result"
    }
   ],
   "source": [
    "df_train.head()"
   ]
  },
  {
   "cell_type": "code",
   "execution_count": 25,
   "metadata": {},
   "outputs": [
    {
     "data": {
      "text/plain": [
       "(549, 2)"
      ]
     },
     "execution_count": 25,
     "metadata": {},
     "output_type": "execute_result"
    }
   ],
   "source": [
    "df_dev.shape"
   ]
  },
  {
   "cell_type": "code",
   "execution_count": 26,
   "metadata": {},
   "outputs": [
    {
     "data": {
      "text/html": [
       "<div>\n",
       "<style scoped>\n",
       "    .dataframe tbody tr th:only-of-type {\n",
       "        vertical-align: middle;\n",
       "    }\n",
       "\n",
       "    .dataframe tbody tr th {\n",
       "        vertical-align: top;\n",
       "    }\n",
       "\n",
       "    .dataframe thead th {\n",
       "        text-align: right;\n",
       "    }\n",
       "</style>\n",
       "<table border=\"1\" class=\"dataframe\">\n",
       "  <thead>\n",
       "    <tr style=\"text-align: right;\">\n",
       "      <th></th>\n",
       "      <th>Text</th>\n",
       "      <th>Explicitness</th>\n",
       "    </tr>\n",
       "  </thead>\n",
       "  <tbody>\n",
       "    <tr>\n",
       "      <th>0</th>\n",
       "      <td>@USER @USER Verder al veldwerk dat WBE's doen,...</td>\n",
       "      <td>NOT</td>\n",
       "    </tr>\n",
       "    <tr>\n",
       "      <th>1</th>\n",
       "      <td>@USER Het extreem linkse CNN wordt belaagd doo...</td>\n",
       "      <td>NOT</td>\n",
       "    </tr>\n",
       "    <tr>\n",
       "      <th>2</th>\n",
       "      <td>@USER @USER en eindeloze hoeveelheden papiersc...</td>\n",
       "      <td>NOT</td>\n",
       "    </tr>\n",
       "    <tr>\n",
       "      <th>3</th>\n",
       "      <td>@USER @USER @USER @USER Ik denk dat de grootst...</td>\n",
       "      <td>NOT</td>\n",
       "    </tr>\n",
       "    <tr>\n",
       "      <th>4</th>\n",
       "      <td>Als je \"protesteert\" tegen politiegeweld en da...</td>\n",
       "      <td>NOT</td>\n",
       "    </tr>\n",
       "  </tbody>\n",
       "</table>\n",
       "</div>"
      ],
      "text/plain": [
       "                                                Text Explicitness\n",
       "0  @USER @USER Verder al veldwerk dat WBE's doen,...          NOT\n",
       "1  @USER Het extreem linkse CNN wordt belaagd doo...          NOT\n",
       "2  @USER @USER en eindeloze hoeveelheden papiersc...          NOT\n",
       "3  @USER @USER @USER @USER Ik denk dat de grootst...          NOT\n",
       "4  Als je \"protesteert\" tegen politiegeweld en da...          NOT"
      ]
     },
     "execution_count": 26,
     "metadata": {},
     "output_type": "execute_result"
    }
   ],
   "source": [
    "df_dev.head()"
   ]
  },
  {
   "cell_type": "code",
   "execution_count": 27,
   "metadata": {},
   "outputs": [
    {
     "data": {
      "text/plain": [
       "(1901, 2)"
      ]
     },
     "execution_count": 27,
     "metadata": {},
     "output_type": "execute_result"
    }
   ],
   "source": [
    "df_test.shape"
   ]
  },
  {
   "cell_type": "code",
   "execution_count": 28,
   "metadata": {},
   "outputs": [
    {
     "data": {
      "text/html": [
       "<div>\n",
       "<style scoped>\n",
       "    .dataframe tbody tr th:only-of-type {\n",
       "        vertical-align: middle;\n",
       "    }\n",
       "\n",
       "    .dataframe tbody tr th {\n",
       "        vertical-align: top;\n",
       "    }\n",
       "\n",
       "    .dataframe thead th {\n",
       "        text-align: right;\n",
       "    }\n",
       "</style>\n",
       "<table border=\"1\" class=\"dataframe\">\n",
       "  <thead>\n",
       "    <tr style=\"text-align: right;\">\n",
       "      <th></th>\n",
       "      <th>Text</th>\n",
       "      <th>Explicitness</th>\n",
       "    </tr>\n",
       "  </thead>\n",
       "  <tbody>\n",
       "    <tr>\n",
       "      <th>0</th>\n",
       "      <td>@USER Oei...krijgen we toch een nieuwe ijstijd...</td>\n",
       "      <td>NOT</td>\n",
       "    </tr>\n",
       "    <tr>\n",
       "      <th>1</th>\n",
       "      <td>01-06-18 19 :51: 21 1324061 Oproep OVD : TI we...</td>\n",
       "      <td>NOT</td>\n",
       "    </tr>\n",
       "    <tr>\n",
       "      <th>2</th>\n",
       "      <td>Wat een superleuk idee deze boekenleggers! URL</td>\n",
       "      <td>NOT</td>\n",
       "    </tr>\n",
       "    <tr>\n",
       "      <th>3</th>\n",
       "      <td>@USER @USER @USER @USER @USER @USER @USER @USE...</td>\n",
       "      <td>NOT</td>\n",
       "    </tr>\n",
       "    <tr>\n",
       "      <th>4</th>\n",
       "      <td>Inspecteur mag bewijsstukken kosten verbouwing...</td>\n",
       "      <td>NOT</td>\n",
       "    </tr>\n",
       "  </tbody>\n",
       "</table>\n",
       "</div>"
      ],
      "text/plain": [
       "                                                Text Explicitness\n",
       "0  @USER Oei...krijgen we toch een nieuwe ijstijd...          NOT\n",
       "1  01-06-18 19 :51: 21 1324061 Oproep OVD : TI we...          NOT\n",
       "2     Wat een superleuk idee deze boekenleggers! URL          NOT\n",
       "3  @USER @USER @USER @USER @USER @USER @USER @USE...          NOT\n",
       "4  Inspecteur mag bewijsstukken kosten verbouwing...          NOT"
      ]
     },
     "execution_count": 28,
     "metadata": {},
     "output_type": "execute_result"
    }
   ],
   "source": [
    "df_test.head()"
   ]
  },
  {
   "cell_type": "code",
   "execution_count": 29,
   "metadata": {},
   "outputs": [
    {
     "data": {
      "text/plain": [
       "(999, 2)"
      ]
     },
     "execution_count": 29,
     "metadata": {},
     "output_type": "execute_result"
    }
   ],
   "source": [
    "df_gold.shape"
   ]
  },
  {
   "cell_type": "code",
   "execution_count": 30,
   "metadata": {},
   "outputs": [
    {
     "data": {
      "text/html": [
       "<div>\n",
       "<style scoped>\n",
       "    .dataframe tbody tr th:only-of-type {\n",
       "        vertical-align: middle;\n",
       "    }\n",
       "\n",
       "    .dataframe tbody tr th {\n",
       "        vertical-align: top;\n",
       "    }\n",
       "\n",
       "    .dataframe thead th {\n",
       "        text-align: right;\n",
       "    }\n",
       "</style>\n",
       "<table border=\"1\" class=\"dataframe\">\n",
       "  <thead>\n",
       "    <tr style=\"text-align: right;\">\n",
       "      <th></th>\n",
       "      <th>Text</th>\n",
       "      <th>Explicitness</th>\n",
       "    </tr>\n",
       "  </thead>\n",
       "  <tbody>\n",
       "    <tr>\n",
       "      <th>0</th>\n",
       "      <td>#eventothier Grote smurf, Mark Rutte met zijn ...</td>\n",
       "      <td>IMPLICIT</td>\n",
       "    </tr>\n",
       "    <tr>\n",
       "      <th>1</th>\n",
       "      <td>@geertwilderspvv @telegraaf Ik heb de debatten...</td>\n",
       "      <td>IMPLICIT</td>\n",
       "    </tr>\n",
       "    <tr>\n",
       "      <th>2</th>\n",
       "      <td>@thierrybaudet Want? Welk feit klopt er niet?</td>\n",
       "      <td>NOT</td>\n",
       "    </tr>\n",
       "    <tr>\n",
       "      <th>3</th>\n",
       "      <td>@CoronaAanval @pwrdbyanthony @WybrenvanHaga @f...</td>\n",
       "      <td>EXPLICIT</td>\n",
       "    </tr>\n",
       "    <tr>\n",
       "      <th>4</th>\n",
       "      <td>@Odessa666666 @ChrRoland @PartijvdDieren @esth...</td>\n",
       "      <td>NOT</td>\n",
       "    </tr>\n",
       "  </tbody>\n",
       "</table>\n",
       "</div>"
      ],
      "text/plain": [
       "                                                Text Explicitness\n",
       "0  #eventothier Grote smurf, Mark Rutte met zijn ...     IMPLICIT\n",
       "1  @geertwilderspvv @telegraaf Ik heb de debatten...     IMPLICIT\n",
       "2      @thierrybaudet Want? Welk feit klopt er niet?          NOT\n",
       "3  @CoronaAanval @pwrdbyanthony @WybrenvanHaga @f...     EXPLICIT\n",
       "4  @Odessa666666 @ChrRoland @PartijvdDieren @esth...          NOT"
      ]
     },
     "execution_count": 30,
     "metadata": {},
     "output_type": "execute_result"
    }
   ],
   "source": [
    "df_gold.head()"
   ]
  },
  {
   "cell_type": "markdown",
   "metadata": {},
   "source": [
    "## <span style='font-family:\"Times New Roman\"'>Distribution of the DALC dataset"
   ]
  },
  {
   "cell_type": "code",
   "execution_count": 31,
   "metadata": {},
   "outputs": [
    {
     "data": {
      "text/plain": [
       "5706"
      ]
     },
     "execution_count": 31,
     "metadata": {},
     "output_type": "execute_result"
    }
   ],
   "source": [
    "\"\"\"DALC total train tweets\"\"\"\n",
    "target_labels_train = df_train['Explicitness']\n",
    "len(target_labels_train)"
   ]
  },
  {
   "cell_type": "code",
   "execution_count": 32,
   "metadata": {},
   "outputs": [
    {
     "data": {
      "text/plain": [
       "549"
      ]
     },
     "execution_count": 32,
     "metadata": {},
     "output_type": "execute_result"
    }
   ],
   "source": [
    "\"\"\"DALC total evaluation tweets\"\"\"\n",
    "target_labels_dev = df_dev['Explicitness']\n",
    "len(target_labels_dev)"
   ]
  },
  {
   "cell_type": "code",
   "execution_count": 33,
   "metadata": {},
   "outputs": [
    {
     "data": {
      "text/plain": [
       "1901"
      ]
     },
     "execution_count": 33,
     "metadata": {},
     "output_type": "execute_result"
    }
   ],
   "source": [
    "\"\"\"DALC total test tweets\"\"\"\n",
    "target_labels_test = df_test['Explicitness']\n",
    "len(target_labels_test)"
   ]
  },
  {
   "cell_type": "code",
   "execution_count": 34,
   "metadata": {},
   "outputs": [
    {
     "data": {
      "text/plain": [
       "999"
      ]
     },
     "execution_count": 34,
     "metadata": {},
     "output_type": "execute_result"
    }
   ],
   "source": [
    "\"\"\"Gold test set total tweets\"\"\"\n",
    "gold_test_labels = df_gold['Explicitness']\n",
    "len(gold_test_labels)"
   ]
  },
  {
   "cell_type": "code",
   "execution_count": 35,
   "metadata": {},
   "outputs": [
    {
     "name": "stdout",
     "output_type": "stream",
     "text": [
      "Percentage train: 69.96076508092202\n",
      "Percentage dev: 6.731240804315841\n",
      "Percentage test: 23.30799411476214\n"
     ]
    }
   ],
   "source": [
    "\"\"\"Distribution of the DALC dataset into train, dev, test\"\"\"\n",
    "total = len(target_labels_train) + len(target_labels_dev) + len(target_labels_test)\n",
    "print('Percentage train:', (len(target_labels_train) / total) * 100)\n",
    "print('Percentage dev:', (len(target_labels_dev) / total) * 100)\n",
    "print('Percentage test:', (len(target_labels_test) / total)* 100)"
   ]
  },
  {
   "cell_type": "markdown",
   "metadata": {},
   "source": [
    "## <span style='font-family:\"Times New Roman\"'>Pie charts "
   ]
  },
  {
   "cell_type": "code",
   "execution_count": 10,
   "metadata": {
    "scrolled": true
   },
   "outputs": [
    {
     "name": "stdout",
     "output_type": "stream",
     "text": [
      "DALC train\n",
      " Label:   Total:\n",
      " explicit 4564\n",
      " implicit 699\n",
      " not\t  443\n",
      "\n",
      "DALC dev\n",
      " Label:   Total:\n",
      " explicit 439\n",
      " implicit 72\n",
      " not\t  38\n",
      "\n",
      "DALC test\n",
      " Label:   Total:\n",
      " explicit 1264\n",
      " implicit 458\n",
      " not\t  179\n",
      "\n",
      "GOLD\n",
      " Label:   Total:\n",
      " explicit 697\n",
      " implicit 178\n",
      " not\t  124\n",
      "\n"
     ]
    }
   ],
   "source": [
    "train_exp = df_train['Explicitness'].value_counts()\n",
    "dev_exp = df_dev['Explicitness'].value_counts()\n",
    "test_exp = df_test['Explicitness'].value_counts()\n",
    "gold_exp = df_gold['Explicitness'].value_counts()\n",
    "\n",
    "print(\"DALC train\\n Label:   Total:\\n explicit {}\\n implicit {}\\n not\\t  {}\\n\".format(train_exp[0], train_exp[1], train_exp[2]))\n",
    "print(\"DALC dev\\n Label:   Total:\\n explicit {}\\n implicit {}\\n not\\t  {}\\n\".format(dev_exp[0], dev_exp[1], dev_exp[2]))\n",
    "print(\"DALC test\\n Label:   Total:\\n explicit {}\\n implicit {}\\n not\\t  {}\\n\".format(test_exp[0], test_exp[1], test_exp[2]))\n",
    "print(\"GOLD\\n Label:   Total:\\n explicit {}\\n implicit {}\\n not\\t  {}\\n\".format(gold_exp[0], gold_exp[1], gold_exp[2]))"
   ]
  },
  {
   "cell_type": "code",
   "execution_count": 11,
   "metadata": {},
   "outputs": [
    {
     "data": {
      "image/png": "[encoded data removed]",
      "text/plain": [
       "<Figure size 432x288 with 1 Axes>"
      ]
     },
     "metadata": {},
     "output_type": "display_data"
    }
   ],
   "source": [
    "\"\"\"Plotting pie chart for df_train set\"\"\"\n",
    "fig1 = plt.figure()\n",
    "mylabels = [\"Not\", \"Explicit\", \"Implicit\"]\n",
    "myexplode = [0, 0, 0]\n",
    "mycolors = [\"#C0D6E4\", \"#008080\", \"#08a99c\"]\n",
    "plt.pie(df_train['Explicitness'].value_counts(), labels=mylabels, startangle=135, \n",
    "        explode=myexplode, colors=mycolors, autopct='%1.1f%%', textprops={'size': 'larger'})\n",
    "plt.title('DALC Train Explicitness Distribution', y=1.1, fontweight='bold')\n",
    "plt.legend(loc=\"center right\")\n",
    "plt.axis('equal')\n",
    "plt.show() \n",
    "fig1.savefig('dalc_train.png', bbox_inches='tight')"
   ]
  },
  {
   "cell_type": "code",
   "execution_count": 12,
   "metadata": {},
   "outputs": [
    {
     "data": {
      "image/png": "[encoded data removed]",
      "text/plain": [
       "<Figure size 432x288 with 1 Axes>"
      ]
     },
     "metadata": {},
     "output_type": "display_data"
    }
   ],
   "source": [
    "\"\"\"Plotting pie chart for df_dev set\"\"\"\n",
    "fig2 = plt.figure()\n",
    "mylabels = [\"Not\", \"Explicit\", \"Implicit\"]\n",
    "myexplode = [0, 0, 0]\n",
    "mycolors = [\"#C0D6E4\", \"#008080\", \"#08a99c\"]\n",
    "plt.pie(df_dev['Explicitness'].value_counts(), labels = mylabels, startangle=135, \n",
    "        explode=myexplode, colors=mycolors, autopct='%1.1f%%', textprops={'size': 'larger'})\n",
    "plt.title('DALC Dev Explicitness Distribution', y=1.1, fontweight='bold')\n",
    "plt.legend(loc=\"center right\")\n",
    "plt.axis('equal')\n",
    "plt.show()\n",
    "fig2.savefig('dalc_dev.png', bbox_inches='tight')"
   ]
  },
  {
   "cell_type": "code",
   "execution_count": 13,
   "metadata": {},
   "outputs": [
    {
     "data": {
      "image/png": "[encoded data removed]",
      "text/plain": [
       "<Figure size 432x288 with 1 Axes>"
      ]
     },
     "metadata": {},
     "output_type": "display_data"
    }
   ],
   "source": [
    "\"\"\"Plotting pie chart for df_test set\"\"\"\n",
    "fig3 = plt.figure()\n",
    "mylabels = [\"Not\", \"Explicit\", \"Implicit\"]\n",
    "myexplode = [0, 0, 0]\n",
    "mycolors = [\"#C0D6E4\", \"#008080\", \"#08a99c\"]\n",
    "plt.pie(df_test['Explicitness'].value_counts(), labels = mylabels, startangle=135, \n",
    "        explode=myexplode, colors=mycolors, autopct='%1.1f%%', textprops={'size': 'larger'})\n",
    "plt.title('DALC Test Explicitness Distribution', y=1.1, fontweight='bold')\n",
    "plt.legend(loc=\"center right\")\n",
    "plt.axis('equal')\n",
    "plt.show()\n",
    "fig3.savefig('dalc_test.png', bbox_inches='tight')"
   ]
  },
  {
   "cell_type": "code",
   "execution_count": 14,
   "metadata": {},
   "outputs": [
    {
     "data": {
      "image/png": "[encoded data removed]",
      "text/plain": [
       "<Figure size 432x288 with 1 Axes>"
      ]
     },
     "metadata": {},
     "output_type": "display_data"
    }
   ],
   "source": [
    "\"\"\"Plotting pie chart for df_gold test set\"\"\"\n",
    "fig4 = plt.figure()\n",
    "mylabels = [\"Not\", \"Explicit\", \"Implicit\"]\n",
    "myexplode = [0, 0, 0]\n",
    "mycolors = [\"#C0D6E4\", \"#008080\", \"#08a99c\"]\n",
    "plt.pie(df_gold['Explicitness'].value_counts(), labels = mylabels, startangle=135, \n",
    "        explode=myexplode, colors=mycolors, autopct='%1.1f%%', textprops={'size': 'larger'})\n",
    "plt.title('Gold test Explicitness Distribution', y=1.1, fontweight='bold')\n",
    "plt.legend(loc=\"center right\")\n",
    "plt.axis('equal')\n",
    "plt.show()\n",
    "fig4.savefig('gold_test.png', bbox_inches='tight')"
   ]
  },
  {
   "cell_type": "markdown",
   "metadata": {},
   "source": [
    "## <span style='font-family:\"Times New Roman\"'>Feature examples"
   ]
  },
  {
   "cell_type": "code",
   "execution_count": 7,
   "metadata": {},
   "outputs": [],
   "source": [
    "text = \"It is a beautiful day\"\n",
    "text2 = \"It is a rainy day\"\n",
    "\n",
    "tfidf = TfidfVectorizer(analyzer='word', ngram_range=(2,2))\n",
    "tfidf.fit([text, text2])\n",
    "x = tfidf.transform([text]).toarray()\n",
    "y = tfidf.transform([text2]).toarray()\n",
    "columns = tfidf.get_feature_names()\n",
    "df1 = pd.DataFrame(x, columns=columns, index= [\"Text1:\"])\n",
    "df2 = pd.DataFrame(y, columns=columns, index= [\"Text2:\"])\n",
    "df = pd.concat([df1,df2])\n",
    "#df"
   ]
  }
 ],
 "metadata": {
  "kernelspec": {
   "display_name": "Python 3",
   "language": "python",
   "name": "python3"
  },
  "language_info": {
   "codemirror_mode": {
    "name": "ipython",
    "version": 3
   },
   "file_extension": ".py",
   "mimetype": "text/x-python",
   "name": "python",
   "nbconvert_exporter": "python",
   "pygments_lexer": "ipython3",
   "version": "3.9.0"
  }
 },
 "nbformat": 4,
 "nbformat_minor": 4
}
